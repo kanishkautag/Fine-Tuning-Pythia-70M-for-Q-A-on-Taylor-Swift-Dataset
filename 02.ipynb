{
 "cells": [
  {
   "cell_type": "code",
   "execution_count": 6,
   "metadata": {},
   "outputs": [
    {
     "name": "stderr",
     "output_type": "stream",
     "text": [
      "c:\\Users\\kanis\\AppData\\Local\\Programs\\Python\\Python312\\Lib\\site-packages\\transformers\\training_args.py:1525: FutureWarning: `evaluation_strategy` is deprecated and will be removed in version 4.46 of 🤗 Transformers. Use `eval_strategy` instead\n",
      "  warnings.warn(\n"
     ]
    },
    {
     "data": {
      "application/vnd.jupyter.widget-view+json": {
       "model_id": "96e27c10f7964f50911dca044a0e96b1",
       "version_major": 2,
       "version_minor": 0
      },
      "text/plain": [
       "  0%|          | 0/588 [00:00<?, ?it/s]"
      ]
     },
     "metadata": {},
     "output_type": "display_data"
    },
    {
     "name": "stdout",
     "output_type": "stream",
     "text": [
      "{'loss': 7.6377, 'grad_norm': 416.21380615234375, 'learning_rate': 1.0000000000000002e-06, 'epoch': 0.05}\n",
      "{'loss': 5.9945, 'grad_norm': 430.6407775878906, 'learning_rate': 2.0000000000000003e-06, 'epoch': 0.1}\n",
      "{'loss': 2.7714, 'grad_norm': 274.91497802734375, 'learning_rate': 3e-06, 'epoch': 0.15}\n",
      "{'loss': 0.471, 'grad_norm': 7.105105400085449, 'learning_rate': 4.000000000000001e-06, 'epoch': 0.2}\n",
      "{'loss': 0.3768, 'grad_norm': 5.304256916046143, 'learning_rate': 5e-06, 'epoch': 0.26}\n",
      "{'loss': 0.3261, 'grad_norm': 5.202910900115967, 'learning_rate': 6e-06, 'epoch': 0.31}\n",
      "{'loss': 0.27, 'grad_norm': 4.831878662109375, 'learning_rate': 7.000000000000001e-06, 'epoch': 0.36}\n",
      "{'loss': 0.3162, 'grad_norm': 10.729480743408203, 'learning_rate': 8.000000000000001e-06, 'epoch': 0.41}\n",
      "{'loss': 0.3664, 'grad_norm': 6.647458076477051, 'learning_rate': 9e-06, 'epoch': 0.46}\n",
      "{'loss': 0.3533, 'grad_norm': 7.576627254486084, 'learning_rate': 1e-05, 'epoch': 0.51}\n",
      "{'loss': 0.2835, 'grad_norm': 3.4880709648132324, 'learning_rate': 1.1000000000000001e-05, 'epoch': 0.56}\n",
      "{'loss': 0.2911, 'grad_norm': 7.959985256195068, 'learning_rate': 1.2e-05, 'epoch': 0.61}\n",
      "{'loss': 0.3136, 'grad_norm': 9.296433448791504, 'learning_rate': 1.3000000000000001e-05, 'epoch': 0.66}\n",
      "{'loss': 0.2664, 'grad_norm': 4.944731712341309, 'learning_rate': 1.4000000000000001e-05, 'epoch': 0.71}\n",
      "{'loss': 0.2493, 'grad_norm': 6.181028842926025, 'learning_rate': 1.5e-05, 'epoch': 0.77}\n",
      "{'loss': 0.3812, 'grad_norm': 12.830972671508789, 'learning_rate': 1.6000000000000003e-05, 'epoch': 0.82}\n",
      "{'loss': 0.317, 'grad_norm': 4.519545555114746, 'learning_rate': 1.7000000000000003e-05, 'epoch': 0.87}\n",
      "{'loss': 0.2996, 'grad_norm': 4.8887104988098145, 'learning_rate': 1.8e-05, 'epoch': 0.92}\n",
      "{'loss': 0.3008, 'grad_norm': 6.221065998077393, 'learning_rate': 1.9e-05, 'epoch': 0.97}\n",
      "{'loss': 0.2873, 'grad_norm': 6.379632472991943, 'learning_rate': 2e-05, 'epoch': 1.02}\n",
      "{'loss': 0.2791, 'grad_norm': 4.13334846496582, 'learning_rate': 2.1e-05, 'epoch': 1.07}\n",
      "{'loss': 0.2053, 'grad_norm': 5.709397792816162, 'learning_rate': 2.2000000000000003e-05, 'epoch': 1.12}\n",
      "{'loss': 0.2588, 'grad_norm': 7.862427711486816, 'learning_rate': 2.3000000000000003e-05, 'epoch': 1.17}\n",
      "{'loss': 0.2211, 'grad_norm': 8.030585289001465, 'learning_rate': 2.4e-05, 'epoch': 1.22}\n",
      "{'loss': 0.2507, 'grad_norm': 5.280145168304443, 'learning_rate': 2.5e-05, 'epoch': 1.28}\n",
      "{'loss': 0.2208, 'grad_norm': 4.725717067718506, 'learning_rate': 2.6000000000000002e-05, 'epoch': 1.33}\n",
      "{'loss': 0.2556, 'grad_norm': 5.738597393035889, 'learning_rate': 2.7000000000000002e-05, 'epoch': 1.38}\n",
      "{'loss': 0.2557, 'grad_norm': 6.376941680908203, 'learning_rate': 2.8000000000000003e-05, 'epoch': 1.43}\n",
      "{'loss': 0.2257, 'grad_norm': 6.342288970947266, 'learning_rate': 2.9e-05, 'epoch': 1.48}\n",
      "{'loss': 0.1979, 'grad_norm': 4.968559741973877, 'learning_rate': 3e-05, 'epoch': 1.53}\n",
      "{'loss': 0.244, 'grad_norm': 5.3589253425598145, 'learning_rate': 3.1e-05, 'epoch': 1.58}\n",
      "{'loss': 0.2361, 'grad_norm': 4.937830448150635, 'learning_rate': 3.2000000000000005e-05, 'epoch': 1.63}\n",
      "{'loss': 0.2231, 'grad_norm': 4.705683708190918, 'learning_rate': 3.3e-05, 'epoch': 1.68}\n",
      "{'loss': 0.2456, 'grad_norm': 3.551271677017212, 'learning_rate': 3.4000000000000007e-05, 'epoch': 1.73}\n",
      "{'loss': 0.2208, 'grad_norm': 3.8420825004577637, 'learning_rate': 3.5e-05, 'epoch': 1.79}\n",
      "{'loss': 0.2543, 'grad_norm': 5.129692554473877, 'learning_rate': 3.6e-05, 'epoch': 1.84}\n",
      "{'loss': 0.2261, 'grad_norm': 4.7566752433776855, 'learning_rate': 3.7e-05, 'epoch': 1.89}\n",
      "{'loss': 0.2704, 'grad_norm': 3.5315117835998535, 'learning_rate': 3.8e-05, 'epoch': 1.94}\n",
      "{'loss': 0.2633, 'grad_norm': 5.162380695343018, 'learning_rate': 3.9000000000000006e-05, 'epoch': 1.99}\n",
      "{'loss': 0.1582, 'grad_norm': 2.755615711212158, 'learning_rate': 4e-05, 'epoch': 2.04}\n",
      "{'loss': 0.2119, 'grad_norm': 4.473660469055176, 'learning_rate': 4.1e-05, 'epoch': 2.09}\n",
      "{'loss': 0.1541, 'grad_norm': 4.781116962432861, 'learning_rate': 4.2e-05, 'epoch': 2.14}\n",
      "{'loss': 0.166, 'grad_norm': 6.043339252471924, 'learning_rate': 4.3e-05, 'epoch': 2.19}\n",
      "{'loss': 0.2226, 'grad_norm': 4.248266220092773, 'learning_rate': 4.4000000000000006e-05, 'epoch': 2.24}\n",
      "{'loss': 0.2117, 'grad_norm': 5.707529067993164, 'learning_rate': 4.5e-05, 'epoch': 2.3}\n",
      "{'loss': 0.2326, 'grad_norm': 6.278871059417725, 'learning_rate': 4.600000000000001e-05, 'epoch': 2.35}\n",
      "{'loss': 0.1708, 'grad_norm': 4.1286420822143555, 'learning_rate': 4.7e-05, 'epoch': 2.4}\n",
      "{'loss': 0.1787, 'grad_norm': 7.152989864349365, 'learning_rate': 4.8e-05, 'epoch': 2.45}\n",
      "{'loss': 0.2694, 'grad_norm': 3.4167168140411377, 'learning_rate': 4.9e-05, 'epoch': 2.5}\n",
      "{'loss': 0.2206, 'grad_norm': 3.154576539993286, 'learning_rate': 5e-05, 'epoch': 2.55}\n"
     ]
    },
    {
     "data": {
      "application/vnd.jupyter.widget-view+json": {
       "model_id": "83b821a53ae942bd990066bb4e3b0902",
       "version_major": 2,
       "version_minor": 0
      },
      "text/plain": [
       "  0%|          | 0/22 [00:00<?, ?it/s]"
      ]
     },
     "metadata": {},
     "output_type": "display_data"
    },
    {
     "name": "stdout",
     "output_type": "stream",
     "text": [
      "{'eval_loss': 0.3316224217414856, 'eval_runtime': 23.1445, 'eval_samples_per_second': 3.759, 'eval_steps_per_second': 0.951, 'epoch': 2.55}\n",
      "{'loss': 0.1953, 'grad_norm': 3.0571868419647217, 'learning_rate': 4.431818181818182e-05, 'epoch': 2.6}\n",
      "{'loss': 0.286, 'grad_norm': 7.948612213134766, 'learning_rate': 3.8636363636363636e-05, 'epoch': 2.65}\n",
      "{'loss': 0.1496, 'grad_norm': 5.921652793884277, 'learning_rate': 3.295454545454545e-05, 'epoch': 2.7}\n",
      "{'loss': 0.2144, 'grad_norm': 5.6841654777526855, 'learning_rate': 2.7272727272727273e-05, 'epoch': 2.76}\n",
      "{'loss': 0.2265, 'grad_norm': 5.35058069229126, 'learning_rate': 2.1590909090909093e-05, 'epoch': 2.81}\n",
      "{'loss': 0.2093, 'grad_norm': 4.62241268157959, 'learning_rate': 1.590909090909091e-05, 'epoch': 2.86}\n",
      "{'loss': 0.1821, 'grad_norm': 3.7548704147338867, 'learning_rate': 1.0227272727272729e-05, 'epoch': 2.91}\n",
      "{'loss': 0.1385, 'grad_norm': 3.1675217151641846, 'learning_rate': 4.5454545454545455e-06, 'epoch': 2.96}\n",
      "{'train_runtime': 1590.388, 'train_samples_per_second': 1.477, 'train_steps_per_second': 0.37, 'train_loss': 0.5170560842063151, 'epoch': 3.0}\n"
     ]
    },
    {
     "data": {
      "application/vnd.jupyter.widget-view+json": {
       "model_id": "49d68dd5b64542cbbf707989df97ddfb",
       "version_major": 2,
       "version_minor": 0
      },
      "text/plain": [
       "  0%|          | 0/22 [00:00<?, ?it/s]"
      ]
     },
     "metadata": {},
     "output_type": "display_data"
    },
    {
     "name": "stdout",
     "output_type": "stream",
     "text": [
      "{'eval_loss': 0.29042214155197144, 'eval_runtime': 23.8905, 'eval_samples_per_second': 3.642, 'eval_steps_per_second': 0.921, 'epoch': 3.0}\n",
      "Training complete. Model saved in './fine_tuned_model'.\n"
     ]
    }
   ],
   "source": [
    "import torch\n",
    "from transformers import AutoTokenizer, AutoModelForCausalLM, Trainer, TrainingArguments\n",
    "from datasets import load_dataset\n",
    "\n",
    "# Model and dataset configuration\n",
    "model_name = \"EleutherAI/pythia-70m\"\n",
    "dataset_path = \"lamini/taylor_swift\"\n",
    "\n",
    "# Load the dataset\n",
    "dataset = load_dataset(dataset_path)\n",
    "\n",
    "# Load the tokenizer\n",
    "tokenizer = AutoTokenizer.from_pretrained(model_name)\n",
    "tokenizer.pad_token = tokenizer.eos_token\n",
    "\n",
    "# Function to preprocess the dataset\n",
    "def preprocess_function(examples):\n",
    "    # Combine question and answer\n",
    "    full_text = [q + \" \" + a for q, a in zip(examples[\"question\"], examples[\"answer\"])]\n",
    "    \n",
    "    # Tokenize the text\n",
    "    tokenized = tokenizer(full_text, padding=\"max_length\", truncation=True, max_length=512)\n",
    "    \n",
    "    # Set labels to be the same as input_ids for language modeling\n",
    "    tokenized[\"labels\"] = tokenized[\"input_ids\"].copy()\n",
    "    \n",
    "    return tokenized\n",
    "\n",
    "# Preprocess the dataset\n",
    "tokenized_dataset = dataset.map(preprocess_function, batched=True, remove_columns=dataset[\"train\"].column_names)\n",
    "\n",
    "# Split the dataset\n",
    "train_dataset = tokenized_dataset['train']\n",
    "eval_dataset = tokenized_dataset['test'].shuffle(seed=42).select(range(87))  # Use a subset of test data for evaluation\n",
    "\n",
    "# Load the pre-trained model\n",
    "model = AutoModelForCausalLM.from_pretrained(model_name)\n",
    "\n",
    "# Set up training arguments\n",
    "training_args = TrainingArguments(\n",
    "    output_dir=\"./results\",\n",
    "    num_train_epochs=3,\n",
    "    per_device_train_batch_size=4,\n",
    "    per_device_eval_batch_size=4,\n",
    "    warmup_steps=500,\n",
    "    weight_decay=0.01,\n",
    "    logging_dir=\"./logs\",\n",
    "    logging_steps=10,\n",
    "    evaluation_strategy=\"steps\",\n",
    "    eval_steps=500,\n",
    "    save_steps=1000,\n",
    "    load_best_model_at_end=True,\n",
    ")\n",
    "\n",
    "# Initialize the Trainer\n",
    "trainer = Trainer(\n",
    "    model=model,\n",
    "    args=training_args,\n",
    "    train_dataset=train_dataset,\n",
    "    eval_dataset=eval_dataset,\n",
    ")\n",
    "\n",
    "# Start training\n",
    "trainer.train()\n",
    "\n",
    "# Evaluate the model\n",
    "eval_results = trainer.evaluate()\n",
    "print(eval_results)\n",
    "\n",
    "# Save the fine-tuned model\n",
    "model.save_pretrained(\"./fine_tuned_model\")\n",
    "tokenizer.save_pretrained(\"./fine_tuned_model\")\n",
    "\n",
    "print(\"Training complete. Model saved in './fine_tuned_model'.\")"
   ]
  },
  {
   "cell_type": "code",
   "execution_count": 7,
   "metadata": {},
   "outputs": [
    {
     "data": {
      "image/png": "[encoded data removed]",
      "text/plain": [
       "<Figure size 800x600 with 1 Axes>"
      ]
     },
     "metadata": {},
     "output_type": "display_data"
    },
    {
     "name": "stderr",
     "output_type": "stream",
     "text": [
      "Setting `pad_token_id` to `eos_token_id`:0 for open-end generation.\n"
     ]
    },
    {
     "name": "stdout",
     "output_type": "stream",
     "text": [
      "Generated Text:  The sky is blue because the sky is brown. This image shows the sky with the red lights on.\n"
     ]
    }
   ],
   "source": [
    "import matplotlib.pyplot as plt\n",
    "import torch\n",
    "from transformers import AutoTokenizer, AutoModelForCausalLM\n",
    "\n",
    "# Plot the training loss graph\n",
    "def plot_loss(log_history):\n",
    "    steps = []\n",
    "    losses = []\n",
    "\n",
    "    for log in log_history:\n",
    "        if \"loss\" in log:\n",
    "            steps.append(log[\"step\"])\n",
    "            losses.append(log[\"loss\"])\n",
    "\n",
    "    plt.figure(figsize=(8, 6))\n",
    "    plt.plot(steps, losses, label=\"Training Loss\")\n",
    "    plt.xlabel(\"Steps\")\n",
    "    plt.ylabel(\"Loss\")\n",
    "    plt.title(\"Training Loss over Time\")\n",
    "    plt.legend()\n",
    "    plt.show()\n",
    "\n",
    "# Call this after training\n",
    "plot_loss(trainer.state.log_history)\n",
    "\n",
    "# Now, let's test the model with a custom prompt\n",
    "def test_model(model, tokenizer, prompt, max_length=50):\n",
    "    inputs = tokenizer(prompt, return_tensors=\"pt\").to(\"cuda\" if torch.cuda.is_available() else \"cpu\")\n",
    "    model = model.to(\"cuda\" if torch.cuda.is_available() else \"cpu\")\n",
    "\n",
    "    # Generate text\n",
    "    output = model.generate(**inputs, max_length=max_length, num_return_sequences=1, do_sample=True, top_p=0.95, temperature=0.9)\n",
    "\n",
    "    # Decode and print the generated text\n",
    "    generated_text = tokenizer.decode(output[0], skip_special_tokens=True)\n",
    "    print(\"Generated Text: \", generated_text)\n",
    "\n",
    "# Example of testing the model\n",
    "prompt = \"The sky is blue because\"\n",
    "test_model(model, tokenizer, prompt)\n"
   ]
  },
  {
   "cell_type": "code",
   "execution_count": 10,
   "metadata": {},
   "outputs": [
    {
     "name": "stderr",
     "output_type": "stream",
     "text": [
      "Setting `pad_token_id` to `eos_token_id`:0 for open-end generation.\n"
     ]
    },
    {
     "name": "stdout",
     "output_type": "stream",
     "text": [
      "Generated Text:  when was Taylor Swift born? Taylor Swift was born on December 29, 1989.\n"
     ]
    }
   ],
   "source": [
    "prompt = \"when was Taylor Swift born\"\n",
    "test_model(model, tokenizer, prompt)"
   ]
  },
  {
   "cell_type": "code",
   "execution_count": null,
   "metadata": {},
   "outputs": [],
   "source": []
  }
 ],
 "metadata": {
  "kernelspec": {
   "display_name": "Python 3",
   "language": "python",
   "name": "python3"
  },
  "language_info": {
   "codemirror_mode": {
    "name": "ipython",
    "version": 3
   },
   "file_extension": ".py",
   "mimetype": "text/x-python",
   "name": "python",
   "nbconvert_exporter": "python",
   "pygments_lexer": "ipython3",
   "version": "3.12.1"
  }
 },
 "nbformat": 4,
 "nbformat_minor": 2
}
